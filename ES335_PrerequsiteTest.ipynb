{
  "nbformat": 4,
  "nbformat_minor": 0,
  "metadata": {
    "colab": {
      "provenance": []
    },
    "kernelspec": {
      "name": "python3",
      "display_name": "Python 3"
    },
    "language_info": {
      "name": "python"
    }
  },
  "cells": [
    {
      "cell_type": "code",
      "execution_count": 24,
      "metadata": {
        "id": "RlFvTomj3KFl"
      },
      "outputs": [],
      "source": [
        "import numpy as np\n",
        "import pandas as pd"
      ]
    },
    {
      "cell_type": "markdown",
      "source": [
        "1. Additions= (k^2-1)*m*n\n",
        " Multiplication = (k^2)*m*n"
      ],
      "metadata": {
        "id": "wUQfcIeq_KKo"
      }
    },
    {
      "cell_type": "markdown",
      "source": [
        "2."
      ],
      "metadata": {
        "id": "z_26VKv5BDfd"
      }
    },
    {
      "cell_type": "code",
      "source": [
        "# a=np.array([[12,2,3],[2,3,4],[2,7,8]])\n",
        "# b=np.full((3,3),2)"
      ],
      "metadata": {
        "id": "VQSn7WBZriJP"
      },
      "execution_count": 32,
      "outputs": []
    },
    {
      "cell_type": "code",
      "source": [
        "# print(b)"
      ],
      "metadata": {
        "colab": {
          "base_uri": "https://localhost:8080/"
        },
        "id": "HzL4TRq9sLbq",
        "outputId": "1be665d4-c817-46c7-dedc-b828d4fb73e0"
      },
      "execution_count": 33,
      "outputs": [
        {
          "output_type": "stream",
          "name": "stdout",
          "text": [
            "[[2 2 2]\n",
            " [2 2 2]\n",
            " [2 2 2]]\n"
          ]
        }
      ]
    },
    {
      "cell_type": "code",
      "source": [
        "# e=np.matmul(a,b)\n",
        "# print(e)"
      ],
      "metadata": {
        "colab": {
          "base_uri": "https://localhost:8080/"
        },
        "id": "GLJneMZDHcLV",
        "outputId": "c1a66536-182e-41d0-93ac-f5ff82000c1f"
      },
      "execution_count": 34,
      "outputs": [
        {
          "output_type": "stream",
          "name": "stdout",
          "text": [
            "[[34 34 34]\n",
            " [18 18 18]\n",
            " [34 34 34]]\n"
          ]
        }
      ]
    },
    {
      "cell_type": "markdown",
      "source": [
        "2.Multiplying matrices using list"
      ],
      "metadata": {
        "id": "m5daKsvP8Qrp"
      }
    },
    {
      "cell_type": "code",
      "source": [
        "l1=[1,9,1]\n",
        "l2=[1,2,7]\n",
        "l3=[1,0,3]\n",
        "m1=[l1,l2,l3]\n",
        "m2=[l2,l3,l1]\n",
        "# l4*l5\n",
        "# rows and column of the resultant matrix\n",
        "def sumofproducts(m1,m2,i,j):\n",
        "  lr=m1[i]\n",
        "  lc=[]\n",
        "  for a in range(len(m1)):\n",
        "    lc.append(m2[a][j])\n",
        "  sum=0\n",
        "  for b in range(len(lr)):\n",
        "    sum+=lr[b]*lc[b]\n",
        "  return sum\n",
        "\n",
        "row=len(m1)\n",
        "column=len(m2[0])\n",
        "# l=[0]*column\n",
        "# result=[l]*row\n",
        "result=[[0,0,0],[0,0,0],[0,0,0]]\n",
        "\n",
        "for i in range(row):\n",
        "  for j in range(column):\n",
        "    result[i][j]=sumofproducts(m1,m2,i,j)\n",
        "print(result)\n",
        "\n"
      ],
      "metadata": {
        "colab": {
          "base_uri": "https://localhost:8080/"
        },
        "id": "kZiaSi5AIqFR",
        "outputId": "9f2b4bdc-38d1-4c33-e4ad-85b753e7f212"
      },
      "execution_count": 36,
      "outputs": [
        {
          "output_type": "stream",
          "name": "stdout",
          "text": [
            "[[11, 11, 35], [10, 65, 20], [4, 29, 10]]\n"
          ]
        }
      ]
    },
    {
      "cell_type": "markdown",
      "source": [
        "2.Multiplying 2 matrices using numpy\n"
      ],
      "metadata": {
        "id": "puyp65D4C6Fg"
      }
    },
    {
      "cell_type": "code",
      "source": [
        "result1=np.matmul(np.array(m1),np.array(m2))\n",
        "print(result1)"
      ],
      "metadata": {
        "colab": {
          "base_uri": "https://localhost:8080/"
        },
        "id": "fX5h6odbC-_h",
        "outputId": "c0395a9d-4f65-40ed-afd7-620d4dfb9b7f"
      },
      "execution_count": 37,
      "outputs": [
        {
          "output_type": "stream",
          "name": "stdout",
          "text": [
            "[[11 11 35]\n",
            " [10 65 20]\n",
            " [ 4 29 10]]\n"
          ]
        }
      ]
    },
    {
      "cell_type": "markdown",
      "source": [
        "2.My code has order n^3 but matmul has order n^2.81 due to better optimization"
      ],
      "metadata": {
        "id": "mlsyJ-1bEPeU"
      }
    },
    {
      "cell_type": "markdown",
      "source": [
        "3."
      ],
      "metadata": {
        "id": "gVNpdcfXuGTx"
      }
    },
    {
      "cell_type": "code",
      "source": [
        "import time\n",
        "start_time = time.time()\n",
        "\n",
        "l=[3,42,414,463,24]\n",
        "k=-100000000000\n",
        "a=0\n",
        "for j in range(len(l)):\n",
        "  for i in range(len(l)-j):\n",
        "    if l[i]>k:\n",
        "      k=l[i]\n",
        "      a=i\n",
        "  l[a],l[len(l)-j-1]=l[len(l)-j-1],l[a]\n",
        "  k=-1000000000000\n",
        "\n",
        "\n",
        "\n",
        "print(l)\n",
        "if len(l)%2!=0:\n",
        "  print(l[int((len(l)-1)/2)])\n",
        "else:\n",
        "  d=len(l)\n",
        "  e=l[int(d/2)]\n",
        "  f=l[int(d/2)-1]\n",
        "  print((e+f)/2)\n",
        "\n",
        "\n",
        "time_total = time.time() - start_time\n",
        "print(time_total)\n"
      ],
      "metadata": {
        "colab": {
          "base_uri": "https://localhost:8080/"
        },
        "id": "zo42Z_tUuG68",
        "outputId": "790f7f4d-9aef-4bca-9680-645d8bfb1e12"
      },
      "execution_count": 51,
      "outputs": [
        {
          "output_type": "stream",
          "name": "stdout",
          "text": [
            "[3, 24, 42, 414, 463]\n",
            "42\n",
            "0.0035393238067626953\n"
          ]
        }
      ]
    },
    {
      "cell_type": "markdown",
      "source": [
        "This method has a time complexity of n^2 . This can be improve by using quick sort method which has time complexity of order nlog(n)."
      ],
      "metadata": {
        "id": "80b_WXIu1b44"
      }
    },
    {
      "cell_type": "code",
      "source": [
        "start_time = time.time()\n",
        "\n",
        "\n",
        "def quicksort(arr):\n",
        "    if len(arr) <= 1:\n",
        "        return arr\n",
        "    else:\n",
        "        pivot = arr[len(arr) // 2]\n",
        "        left = [x for x in arr if x < pivot]\n",
        "        middle = [x for x in arr if x == pivot]\n",
        "        right = [x for x in arr if x > pivot]\n",
        "        return quicksort(left) + middle + quicksort(right)\n",
        "\n",
        "\n",
        "l = [3, 42, 414, 463, 24]\n",
        "l = quicksort(l)\n",
        "print(l)\n",
        "if len(l)%2!=0:\n",
        "  print(l[int((len(l)-1)/2)])\n",
        "else:\n",
        "  d=len(l)\n",
        "  e=l[int(d/2)]\n",
        "  f=l[int(d/2)-1]\n",
        "  print((e+f)/2)\n",
        "\n",
        "time_total = time.time() - start_time\n",
        "print(time_total)"
      ],
      "metadata": {
        "colab": {
          "base_uri": "https://localhost:8080/"
        },
        "id": "SVpmykc-1812",
        "outputId": "c8536b8d-bbd6-4de5-8fe2-c50e1c4eb6a9"
      },
      "execution_count": 50,
      "outputs": [
        {
          "output_type": "stream",
          "name": "stdout",
          "text": [
            "[3, 24, 42, 414, 463]\n",
            "42\n",
            "0.0010097026824951172\n"
          ]
        }
      ]
    },
    {
      "cell_type": "markdown",
      "source": [
        "Clearly the time taken by this algo is less"
      ],
      "metadata": {
        "id": "FtpCkm4R3WuS"
      }
    },
    {
      "cell_type": "code",
      "source": [
        "arr=np.array(l)\n",
        "start_time = time.time()\n",
        "print(np.median(arr))\n",
        "time_total = time.time() - start_time\n",
        "print(time_total)"
      ],
      "metadata": {
        "colab": {
          "base_uri": "https://localhost:8080/"
        },
        "id": "LOtc2yKL3atk",
        "outputId": "c5b464d7-4954-4fc6-e2f6-9be985caa948"
      },
      "execution_count": 57,
      "outputs": [
        {
          "output_type": "stream",
          "name": "stdout",
          "text": [
            "42.0\n",
            "0.0008900165557861328\n"
          ]
        }
      ]
    },
    {
      "cell_type": "markdown",
      "source": [
        "np.median takes less time than either of the of the two code written earlier"
      ],
      "metadata": {
        "id": "ygvUA78834yl"
      }
    },
    {
      "cell_type": "markdown",
      "source": [
        "4.Wrt to x: 2xy+ y^3*cos(x)\n",
        "  wrt to y: x^2 + 3y^2*sin(x)"
      ],
      "metadata": {
        "id": "V_Ke0rD-CVpb"
      }
    },
    {
      "cell_type": "markdown",
      "source": [
        "5.Finding slope using JAX"
      ],
      "metadata": {
        "id": "w4emgVtkH3Sc"
      }
    },
    {
      "cell_type": "code",
      "source": [
        "import jax\n",
        "import jax.numpy as jnp\n",
        "\n",
        "def f(x):\n",
        "  return (x**2) + jnp.sin(x)\n",
        "diff_f = jax.grad(f)\n",
        "x=1.0\n",
        "print(diff_f(x))\n",
        "\n",
        "grad_f = jax.grad(f)\n",
        "\n",
        "# Evaluate the gradient at x = 2.0\n",
        "x = 2.0\n",
        "print(\"Gradient of f at x=2.0:\", grad_f(x))\n"
      ],
      "metadata": {
        "colab": {
          "base_uri": "https://localhost:8080/"
        },
        "id": "30M-x5pDHyvm",
        "outputId": "d604cd60-4285-4deb-99ff-f1bd87ec5ed4"
      },
      "execution_count": null,
      "outputs": [
        {
          "output_type": "stream",
          "name": "stdout",
          "text": [
            "2.5403023\n",
            "Gradient of f at x=2.0: 3.5838532\n"
          ]
        }
      ]
    },
    {
      "cell_type": "markdown",
      "source": [
        "Gradient can only be calculated at floating points since it is continous and int isn't."
      ],
      "metadata": {
        "id": "Knes8CKhEZGV"
      }
    },
    {
      "cell_type": "code",
      "source": [
        "import jax\n",
        "import jax.numpy as jnp\n",
        "\n",
        "def f(x):\n",
        "    return x ** 2\n",
        "\n",
        "grad_f = jax.grad(f)\n",
        "\n",
        "# Evaluate the gradient at x = 1 (integer)\n",
        "x = 1\n",
        "try:\n",
        "    gradient = grad_f(x)\n",
        "    print(\"Gradient of f at x=1:\", gradient)\n",
        "except Exception as e:\n",
        "    print(\"Error:\", e)\n",
        "print(\"help\")"
      ],
      "metadata": {
        "colab": {
          "base_uri": "https://localhost:8080/"
        },
        "id": "O1cNdTQwPBpk",
        "outputId": "ad108928-ecc8-4334-d4bd-2659ef67009e"
      },
      "execution_count": null,
      "outputs": [
        {
          "output_type": "stream",
          "name": "stdout",
          "text": [
            "Error: grad requires real- or complex-valued inputs (input dtype that is a sub-dtype of np.inexact), but got int32. If you want to use Boolean- or integer-valued inputs, use vjp or set allow_int to True.\n",
            "help\n"
          ]
        }
      ]
    },
    {
      "cell_type": "code",
      "source": [
        "# derivative of the the function with respect to x... here we have to pass on the first variable as the variable wrt to which it will be differentiated\n",
        "\n",
        "def f(a,x,y):\n",
        "  return (x**2)*y + jnp.sin(x)*y**3\n",
        "grad_f=jax.grad(f)\n",
        "x=1.0\n",
        "y=1.0\n",
        "a=10.0\n",
        "print(grad_f(a,x,y))\n",
        "\n",
        "def g(a,y,x):\n",
        "  return (x**2)*y + jnp.sin(x)*y**3\n",
        "\n",
        "grad_g=jax.grad(g)\n",
        "print(jax.grad(g)(a,y,x))\n",
        "\n",
        "\n"
      ],
      "metadata": {
        "colab": {
          "base_uri": "https://localhost:8080/"
        },
        "id": "SRlmsGzxBTMV",
        "outputId": "1351ced7-9133-4c04-806b-30fe93b75342"
      },
      "execution_count": null,
      "outputs": [
        {
          "output_type": "stream",
          "name": "stdout",
          "text": [
            "0.0\n",
            "0.0\n"
          ]
        }
      ]
    },
    {
      "cell_type": "code",
      "source": [
        "import jax\n",
        "import jax.numpy as jnp\n",
        "\n",
        "# Define the multivariable function\n",
        "def f(x):\n",
        "    return jnp.sin(x[0]) * jnp.cos(x[1]) + jnp.exp(x[2])\n",
        "\n",
        "# Compute the gradient of the function\n",
        "grad_f = jax.grad(f)\n",
        "\n",
        "# Evaluate the gradient at a specific point, e.g., x = [1.0, 2.0, 3.0]\n",
        "x = jnp.array([1.0, 2.0, 3.0], dtype=jnp.float32)\n",
        "gradient = grad_f(x)\n",
        "\n",
        "print(\"Gradient of f at x=[1.0, 2.0, 3.0]:\", gradient)\n",
        "# i think the answer gives the result when the diff occurs wrt to x[0] as first ans then wrt x[1] and then x[2]\n"
      ],
      "metadata": {
        "colab": {
          "base_uri": "https://localhost:8080/"
        },
        "id": "4MIJgeAbJsOk",
        "outputId": "7fc40843-2737-4ee6-d392-5ffafc34a13f"
      },
      "execution_count": null,
      "outputs": [
        {
          "output_type": "stream",
          "name": "stdout",
          "text": [
            "Gradient of f at x=[1.0, 2.0, 3.0]: [-0.22484508 -0.7651474  20.085537  ]\n"
          ]
        }
      ]
    },
    {
      "cell_type": "markdown",
      "source": [
        "6.finding differentiated function using sympy"
      ],
      "metadata": {
        "id": "SAjBVbcBHrwp"
      }
    },
    {
      "cell_type": "code",
      "source": [
        "import sympy as sp\n",
        "import jax.numpy as jnp\n",
        "import numpy as np\n",
        "\n",
        "x,y,z=sp.symbols('x y z')\n",
        "\n",
        "f=(x**2)*y + (sp.sin(x))*(y**3)\n",
        "grad=sp.diff(f,x)\n",
        "print(grad)"
      ],
      "metadata": {
        "id": "36tYPSXdIEIy",
        "colab": {
          "base_uri": "https://localhost:8080/"
        },
        "outputId": "9ba40399-7143-4989-f667-6cc05daded2e"
      },
      "execution_count": null,
      "outputs": [
        {
          "output_type": "stream",
          "name": "stdout",
          "text": [
            "2*x*y + y**3*cos(x)\n"
          ]
        }
      ]
    },
    {
      "cell_type": "markdown",
      "source": [
        "Q7"
      ],
      "metadata": {
        "id": "TXDkxeeYcGT3"
      }
    },
    {
      "cell_type": "code",
      "source": [
        "# Branch 1\n",
        "roll_1_2022_=[1,2,3]\n",
        "name_1_2022_=['Riya','Dinesh','Kartik']\n",
        "maths_1_2022_=[100,70,80]\n",
        "english_1_2022_=[70,80,90]\n",
        "# marks_1_2022={'Maths':maths_1_2022,'English':english_1_2022}\n",
        "name_1_2022={}\n",
        "maths_1_2022={}\n",
        "english_1_2022={}\n",
        "roll_1_2022={}\n",
        "for i in range(len(roll_1_2022_)):\n",
        "  roll_1_2022[roll_1_2022_[i]]=roll_1_2022_[i]\n",
        "  name_1_2022[roll_1_2022_[i]]=name_1_2022_[i]\n",
        "  maths_1_2022[roll_1_2022_[i]]=maths_1_2022_[i]\n",
        "  english_1_2022[roll_1_2022_[i]]=english_1_2022_[i]\n",
        "b1_2022_marks={'Maths_Marks':maths_1_2022,'English_Marks':english_1_2022}\n",
        "b1_2022={'Roll Number':roll_1_2022,'Name':name_1_2022,'Marks':b1_2022_marks}\n",
        "b1_2023={}\n",
        "b1_2024={}\n",
        "b1_2025={}\n",
        "b1={2022:b1_2022,2023:b1_2023,2024:b1_2024,2025:b1_2025}\n",
        "\n",
        "\n",
        "\n",
        "# Branch 2\n",
        "# roll_1_2022_=[1,2,3]\n",
        "# name_1_2022_=['Riya','Dinesh','Kartik']\n",
        "# maths_1_2022_=[100,70,80]\n",
        "# english_1_2022_=[70,80,90]\n",
        "# # marks_1_2022={'Maths':maths_1_2022,'English':english_1_2022}\n",
        "# name_1_2022={}\n",
        "# maths_1_2022={}\n",
        "# english_1_2022={}\n",
        "# for i in range(len(roll_1_2022_)):\n",
        "#   roll_1_2022[roll_1_2022_[i]]=roll_1_2022[i]\n",
        "#   name_1_2022[roll_1_2022_[i]]=name_1_2022_[i]\n",
        "#   maths_1_2022[roll_1_2022_[i]]=maths_1_2022_[i]\n",
        "#   english_1_2022[roll_1_2022_[i]]=english_1_2022_[i]\n",
        "b1_2022_marks={'Maths_Marks':maths_1_2022,'English_Marks':english_1_2022}\n",
        "b1_2022={'Roll Number':roll_1_2022,'Name':name_1_2022,'Marks':b1_2022_marks}\n",
        "b1_2023={}\n",
        "b1_2024={}\n",
        "b1_2025={}\n",
        "b1={2022:b1_2022,2023:b1_2023,2024:b1_2024,2025:b1_2025}\n",
        "\n",
        "\n",
        "branch={'Branch 1':b1,'Branch 2':b1}\n",
        "\n",
        "def get_marks(branch,year,roll,db):\n",
        "  Name=db[branch][year]['Name'][roll]\n",
        "  Roll=db[branch][year]['Roll Number'][roll]\n",
        "  Marks_eng=db[branch][year]['Marks']['English_Marks'][roll]\n",
        "  Marks_Maths=db[branch][year]['Marks']['Maths_Marks'][roll]\n",
        "  print(Name)\n",
        "  print(Roll)\n",
        "  print('English:',Marks_eng,'Maths:',Marks_Maths)\n",
        "\n",
        "yr=int(input('Which Year'))\n",
        "bran=input('Branch 1 or Branch 2')\n",
        "rol=int(input('Roll No?'))\n",
        "get_marks(bran,yr,rol,branch)\n"
      ],
      "metadata": {
        "colab": {
          "base_uri": "https://localhost:8080/"
        },
        "id": "CXOM3wXa2pYy",
        "outputId": "590785ea-1dee-4bf0-b9df-84117f40c1c7"
      },
      "execution_count": 40,
      "outputs": [
        {
          "output_type": "stream",
          "name": "stdout",
          "text": [
            "Which Year2022\n",
            "Branch 1 or Branch 2Branch 1\n",
            "Roll No?1\n",
            "Riya\n",
            "1\n",
            "English: 70 Maths: 100\n"
          ]
        }
      ]
    },
    {
      "cell_type": "markdown",
      "source": [
        "Q8"
      ],
      "metadata": {
        "id": "9iAXKlmGlyA_"
      }
    },
    {
      "cell_type": "code",
      "source": [
        "class years:\n",
        "  def __init__(self,year,b_name,roll,name,eng_marks,maths_marks):\n",
        "    self.year=year\n",
        "    self.branch_details=self.branch(b_name,roll,name,eng_marks,maths_marks)\n",
        "  def show_marks(self):\n",
        "    self.branch_details.show().show_().get_marks()\n",
        "  class branch:\n",
        "    def __init__(self,b_name,roll,name,eng_marks,maths_marks):\n",
        "      self.b_name=b_name\n",
        "      self.students=self.student(roll,name,eng_marks,maths_marks)\n",
        "    def show(self):\n",
        "      return self.students\n",
        "    class student:\n",
        "      def __init__(self,roll,name,eng_marks,maths_marks):\n",
        "        self.roll=roll\n",
        "        self.name=name\n",
        "        self.mark=self.marks(eng_marks,maths_marks)\n",
        "      def show_(self):\n",
        "        return self.mark\n",
        "      class marks:\n",
        "        def __init__(self,english,maths):\n",
        "          self.english=english\n",
        "          self.maths=maths\n",
        "\n",
        "        def get_marks(self):\n",
        "          print('English',self.english)\n",
        "          print('Maths',self.maths)\n",
        "\n",
        "\n",
        "s1=years(2022,'Branch 1',1,'N',100,70)\n",
        "\n",
        "s1.show_marks()\n",
        "\n",
        "\n"
      ],
      "metadata": {
        "colab": {
          "base_uri": "https://localhost:8080/"
        },
        "id": "K8HSPiVyLjrc",
        "outputId": "6b583a0a-05dc-459f-92f5-3762ce92a1ff"
      },
      "execution_count": 7,
      "outputs": [
        {
          "output_type": "stream",
          "name": "stdout",
          "text": [
            "English 100\n",
            "Maths 70\n"
          ]
        }
      ]
    },
    {
      "cell_type": "markdown",
      "source": [
        "Question no. 9"
      ],
      "metadata": {
        "id": "FOXv5aBI-f9W"
      }
    },
    {
      "cell_type": "code",
      "source": [
        "import matplotlib.pyplot as plt\n",
        "import numpy as np"
      ],
      "metadata": {
        "id": "ZcyD3aCW-hqN"
      },
      "execution_count": 10,
      "outputs": []
    },
    {
      "cell_type": "code",
      "source": [
        "def f1(x):\n",
        "  return x\n",
        "def f2(x):\n",
        "  return np.power(x,2)\n",
        "def f3(x):\n",
        "  return np.power(x,3)/100\n",
        "def f4(x):\n",
        "  return np.sin(x)\n",
        "def f5(x):\n",
        "  return (np.sin(x))/x\n",
        "def f6(x):\n",
        "  return np.log(x)\n",
        "def f7(x):\n",
        "  return np.exp(x)"
      ],
      "metadata": {
        "id": "onKZB_OI-lwl"
      },
      "execution_count": 23,
      "outputs": []
    },
    {
      "cell_type": "code",
      "source": [
        "x=[]\n",
        "i=0.5\n",
        "while(i<100):\n",
        "  x.append(i)\n",
        "  i+=0.5\n",
        "\n"
      ],
      "metadata": {
        "id": "oTM4XlsTAJvE"
      },
      "execution_count": 13,
      "outputs": []
    },
    {
      "cell_type": "code",
      "source": [
        "fig,((ax1,ax2,ax3,ax4),(ax5,ax6,ax7,ax8))=plt.subplots(2,4,figsize=(15,10))\n",
        "ax1.plot(x,f1(x))\n",
        "ax1.set_title('1')\n",
        "\n",
        "ax2.plot(x,f2(x))\n",
        "ax2.set_title('2')\n",
        "\n",
        "ax2.plot(x,f2(x))\n",
        "ax2.set_title('2')\n",
        "\n",
        "ax3.plot(x,f3(x))\n",
        "ax3.set_title('3')\n",
        "\n",
        "ax4.plot(x,f4(x))\n",
        "ax4.set_title('4')\n",
        "\n",
        "ax5.plot(x,f5(x))\n",
        "ax5.set_title('5')\n",
        "\n",
        "ax6.plot(x,f6(x))\n",
        "ax6.set_title('6')\n",
        "\n",
        "ax7.plot(x,f7(x))\n",
        "ax7.set_title('7')\n",
        "\n"
      ],
      "metadata": {
        "colab": {
          "base_uri": "https://localhost:8080/",
          "height": 470
        },
        "id": "dUf6T68H-xqJ",
        "outputId": "17621eeb-9647-4237-c64b-cb3006bbf183"
      },
      "execution_count": 36,
      "outputs": [
        {
          "output_type": "execute_result",
          "data": {
            "text/plain": [
              "Text(0.5, 1.0, '7')"
            ]
          },
          "metadata": {},
          "execution_count": 36
        },
        {
          "output_type": "display_data",
          "data": {
            "text/plain": [
              "<Figure size 1500x1000 with 8 Axes>"
            ],
            "image/png": "[encoded data removed]"
          },
          "metadata": {}
        }
      ]
    },
    {
      "cell_type": "markdown",
      "source": [
        "Question No.10"
      ],
      "metadata": {
        "id": "Cibd3qN3FZHh"
      }
    },
    {
      "cell_type": "code",
      "source": [
        "import numpy as np"
      ],
      "metadata": {
        "id": "H0ssmdS5Fau4"
      },
      "execution_count": 10,
      "outputs": []
    },
    {
      "cell_type": "code",
      "source": [
        "matrix = np.random.uniform(1, 2, (20, 5))"
      ],
      "metadata": {
        "id": "aJf40Cw10KhK"
      },
      "execution_count": 11,
      "outputs": []
    },
    {
      "cell_type": "code",
      "source": [
        "print(matrix)"
      ],
      "metadata": {
        "colab": {
          "base_uri": "https://localhost:8080/"
        },
        "id": "ygqSsqq70fjq",
        "outputId": "176d3c08-778c-4f1c-f7c2-7daa36f1b533"
      },
      "execution_count": 12,
      "outputs": [
        {
          "output_type": "stream",
          "name": "stdout",
          "text": [
            "[[1.41873659 1.88935249 1.65905805 1.32535487 1.34997556]\n",
            " [1.85861793 1.96437226 1.64547918 1.57773408 1.07595711]\n",
            " [1.06466094 1.36540559 1.32913389 1.46587706 1.14599715]\n",
            " [1.75256294 1.97112208 1.21115346 1.54540362 1.91025391]\n",
            " [1.09036987 1.16158209 1.62907541 1.97872471 1.71005894]\n",
            " [1.38167632 1.10147347 1.67277982 1.21166446 1.00010624]\n",
            " [1.74521388 1.15158444 1.47740354 1.081078   1.97811805]\n",
            " [1.66452467 1.97556655 1.70589793 1.3814273  1.36301032]\n",
            " [1.34434774 1.82765532 1.3659134  1.10890167 1.46950792]\n",
            " [1.06320699 1.58140294 1.17591115 1.99356091 1.58602484]\n",
            " [1.72327499 1.89289497 1.20102099 1.08179196 1.21286445]\n",
            " [1.90221337 1.71480184 1.20438414 1.14865219 1.39665432]\n",
            " [1.54958326 1.96319427 1.40535412 1.91988322 1.08155574]\n",
            " [1.87441279 1.8080782  1.79119914 1.35572254 1.19282973]\n",
            " [1.52433644 1.11240039 1.84581136 1.97634819 1.89521791]\n",
            " [1.38752743 1.118132   1.2149368  1.78381164 1.05918772]\n",
            " [1.18993333 1.60065445 1.55362234 1.97819299 1.30135167]\n",
            " [1.08427474 1.59174062 1.03257967 1.74338313 1.0910154 ]\n",
            " [1.06483709 1.52062509 1.66722131 1.14289565 1.38090374]\n",
            " [1.36141673 1.60092162 1.58913362 1.98704628 1.07608126]]\n"
          ]
        }
      ]
    },
    {
      "cell_type": "code",
      "source": [
        "import pandas as pd\n",
        "df = pd.DataFrame(matrix, columns=['a', 'b', 'c', 'd', 'e'])\n",
        "display(df)"
      ],
      "metadata": {
        "colab": {
          "base_uri": "https://localhost:8080/",
          "height": 676
        },
        "id": "aikbZyxb4OUV",
        "outputId": "22f6dbeb-84f0-48d0-848f-418ffd873922"
      },
      "execution_count": 13,
      "outputs": [
        {
          "output_type": "display_data",
          "data": {
            "text/plain": [
              "           a         b         c         d         e\n",
              "0   1.418737  1.889352  1.659058  1.325355  1.349976\n",
              "1   1.858618  1.964372  1.645479  1.577734  1.075957\n",
              "2   1.064661  1.365406  1.329134  1.465877  1.145997\n",
              "3   1.752563  1.971122  1.211153  1.545404  1.910254\n",
              "4   1.090370  1.161582  1.629075  1.978725  1.710059\n",
              "5   1.381676  1.101473  1.672780  1.211664  1.000106\n",
              "6   1.745214  1.151584  1.477404  1.081078  1.978118\n",
              "7   1.664525  1.975567  1.705898  1.381427  1.363010\n",
              "8   1.344348  1.827655  1.365913  1.108902  1.469508\n",
              "9   1.063207  1.581403  1.175911  1.993561  1.586025\n",
              "10  1.723275  1.892895  1.201021  1.081792  1.212864\n",
              "11  1.902213  1.714802  1.204384  1.148652  1.396654\n",
              "12  1.549583  1.963194  1.405354  1.919883  1.081556\n",
              "13  1.874413  1.808078  1.791199  1.355723  1.192830\n",
              "14  1.524336  1.112400  1.845811  1.976348  1.895218\n",
              "15  1.387527  1.118132  1.214937  1.783812  1.059188\n",
              "16  1.189933  1.600654  1.553622  1.978193  1.301352\n",
              "17  1.084275  1.591741  1.032580  1.743383  1.091015\n",
              "18  1.064837  1.520625  1.667221  1.142896  1.380904\n",
              "19  1.361417  1.600922  1.589134  1.987046  1.076081"
            ],
            "text/html": [
              "\n",
              "  <div id=\"df-0ff47f2c-654b-4ca5-8e06-eda6399cdbe0\" class=\"colab-df-container\">\n",
              "    <div>\n",
              "<style scoped>\n",
              "    .dataframe tbody tr th:only-of-type {\n",
              "        vertical-align: middle;\n",
              "    }\n",
              "\n",
              "    .dataframe tbody tr th {\n",
              "        vertical-align: top;\n",
              "    }\n",
              "\n",
              "    .dataframe thead th {\n",
              "        text-align: right;\n",
              "    }\n",
              "</style>\n",
              "<table border=\"1\" class=\"dataframe\">\n",
              "  <thead>\n",
              "    <tr style=\"text-align: right;\">\n",
              "      <th></th>\n",
              "      <th>a</th>\n",
              "      <th>b</th>\n",
              "      <th>c</th>\n",
              "      <th>d</th>\n",
              "      <th>e</th>\n",
              "    </tr>\n",
              "  </thead>\n",
              "  <tbody>\n",
              "    <tr>\n",
              "      <th>0</th>\n",
              "      <td>1.418737</td>\n",
              "      <td>1.889352</td>\n",
              "      <td>1.659058</td>\n",
              "      <td>1.325355</td>\n",
              "      <td>1.349976</td>\n",
              "    </tr>\n",
              "    <tr>\n",
              "      <th>1</th>\n",
              "      <td>1.858618</td>\n",
              "      <td>1.964372</td>\n",
              "      <td>1.645479</td>\n",
              "      <td>1.577734</td>\n",
              "      <td>1.075957</td>\n",
              "    </tr>\n",
              "    <tr>\n",
              "      <th>2</th>\n",
              "      <td>1.064661</td>\n",
              "      <td>1.365406</td>\n",
              "      <td>1.329134</td>\n",
              "      <td>1.465877</td>\n",
              "      <td>1.145997</td>\n",
              "    </tr>\n",
              "    <tr>\n",
              "      <th>3</th>\n",
              "      <td>1.752563</td>\n",
              "      <td>1.971122</td>\n",
              "      <td>1.211153</td>\n",
              "      <td>1.545404</td>\n",
              "      <td>1.910254</td>\n",
              "    </tr>\n",
              "    <tr>\n",
              "      <th>4</th>\n",
              "      <td>1.090370</td>\n",
              "      <td>1.161582</td>\n",
              "      <td>1.629075</td>\n",
              "      <td>1.978725</td>\n",
              "      <td>1.710059</td>\n",
              "    </tr>\n",
              "    <tr>\n",
              "      <th>5</th>\n",
              "      <td>1.381676</td>\n",
              "      <td>1.101473</td>\n",
              "      <td>1.672780</td>\n",
              "      <td>1.211664</td>\n",
              "      <td>1.000106</td>\n",
              "    </tr>\n",
              "    <tr>\n",
              "      <th>6</th>\n",
              "      <td>1.745214</td>\n",
              "      <td>1.151584</td>\n",
              "      <td>1.477404</td>\n",
              "      <td>1.081078</td>\n",
              "      <td>1.978118</td>\n",
              "    </tr>\n",
              "    <tr>\n",
              "      <th>7</th>\n",
              "      <td>1.664525</td>\n",
              "      <td>1.975567</td>\n",
              "      <td>1.705898</td>\n",
              "      <td>1.381427</td>\n",
              "      <td>1.363010</td>\n",
              "    </tr>\n",
              "    <tr>\n",
              "      <th>8</th>\n",
              "      <td>1.344348</td>\n",
              "      <td>1.827655</td>\n",
              "      <td>1.365913</td>\n",
              "      <td>1.108902</td>\n",
              "      <td>1.469508</td>\n",
              "    </tr>\n",
              "    <tr>\n",
              "      <th>9</th>\n",
              "      <td>1.063207</td>\n",
              "      <td>1.581403</td>\n",
              "      <td>1.175911</td>\n",
              "      <td>1.993561</td>\n",
              "      <td>1.586025</td>\n",
              "    </tr>\n",
              "    <tr>\n",
              "      <th>10</th>\n",
              "      <td>1.723275</td>\n",
              "      <td>1.892895</td>\n",
              "      <td>1.201021</td>\n",
              "      <td>1.081792</td>\n",
              "      <td>1.212864</td>\n",
              "    </tr>\n",
              "    <tr>\n",
              "      <th>11</th>\n",
              "      <td>1.902213</td>\n",
              "      <td>1.714802</td>\n",
              "      <td>1.204384</td>\n",
              "      <td>1.148652</td>\n",
              "      <td>1.396654</td>\n",
              "    </tr>\n",
              "    <tr>\n",
              "      <th>12</th>\n",
              "      <td>1.549583</td>\n",
              "      <td>1.963194</td>\n",
              "      <td>1.405354</td>\n",
              "      <td>1.919883</td>\n",
              "      <td>1.081556</td>\n",
              "    </tr>\n",
              "    <tr>\n",
              "      <th>13</th>\n",
              "      <td>1.874413</td>\n",
              "      <td>1.808078</td>\n",
              "      <td>1.791199</td>\n",
              "      <td>1.355723</td>\n",
              "      <td>1.192830</td>\n",
              "    </tr>\n",
              "    <tr>\n",
              "      <th>14</th>\n",
              "      <td>1.524336</td>\n",
              "      <td>1.112400</td>\n",
              "      <td>1.845811</td>\n",
              "      <td>1.976348</td>\n",
              "      <td>1.895218</td>\n",
              "    </tr>\n",
              "    <tr>\n",
              "      <th>15</th>\n",
              "      <td>1.387527</td>\n",
              "      <td>1.118132</td>\n",
              "      <td>1.214937</td>\n",
              "      <td>1.783812</td>\n",
              "      <td>1.059188</td>\n",
              "    </tr>\n",
              "    <tr>\n",
              "      <th>16</th>\n",
              "      <td>1.189933</td>\n",
              "      <td>1.600654</td>\n",
              "      <td>1.553622</td>\n",
              "      <td>1.978193</td>\n",
              "      <td>1.301352</td>\n",
              "    </tr>\n",
              "    <tr>\n",
              "      <th>17</th>\n",
              "      <td>1.084275</td>\n",
              "      <td>1.591741</td>\n",
              "      <td>1.032580</td>\n",
              "      <td>1.743383</td>\n",
              "      <td>1.091015</td>\n",
              "    </tr>\n",
              "    <tr>\n",
              "      <th>18</th>\n",
              "      <td>1.064837</td>\n",
              "      <td>1.520625</td>\n",
              "      <td>1.667221</td>\n",
              "      <td>1.142896</td>\n",
              "      <td>1.380904</td>\n",
              "    </tr>\n",
              "    <tr>\n",
              "      <th>19</th>\n",
              "      <td>1.361417</td>\n",
              "      <td>1.600922</td>\n",
              "      <td>1.589134</td>\n",
              "      <td>1.987046</td>\n",
              "      <td>1.076081</td>\n",
              "    </tr>\n",
              "  </tbody>\n",
              "</table>\n",
              "</div>\n",
              "    <div class=\"colab-df-buttons\">\n",
              "\n",
              "  <div class=\"colab-df-container\">\n",
              "    <button class=\"colab-df-convert\" onclick=\"convertToInteractive('df-0ff47f2c-654b-4ca5-8e06-eda6399cdbe0')\"\n",
              "            title=\"Convert this dataframe to an interactive table.\"\n",
              "            style=\"display:none;\">\n",
              "\n",
              "  <svg xmlns=\"http://www.w3.org/2000/svg\" height=\"24px\" viewBox=\"0 -960 960 960\">\n",
              "    <path d=\"M120-120v-720h720v720H120Zm60-500h600v-160H180v160Zm220 220h160v-160H400v160Zm0 220h160v-160H400v160ZM180-400h160v-160H180v160Zm440 0h160v-160H620v160ZM180-180h160v-160H180v160Zm440 0h160v-160H620v160Z\"/>\n",
              "  </svg>\n",
              "    </button>\n",
              "\n",
              "  <style>\n",
              "    .colab-df-container {\n",
              "      display:flex;\n",
              "      gap: 12px;\n",
              "    }\n",
              "\n",
              "    .colab-df-convert {\n",
              "      background-color: #E8F0FE;\n",
              "      border: none;\n",
              "      border-radius: 50%;\n",
              "      cursor: pointer;\n",
              "      display: none;\n",
              "      fill: #1967D2;\n",
              "      height: 32px;\n",
              "      padding: 0 0 0 0;\n",
              "      width: 32px;\n",
              "    }\n",
              "\n",
              "    .colab-df-convert:hover {\n",
              "      background-color: #E2EBFA;\n",
              "      box-shadow: 0px 1px 2px rgba(60, 64, 67, 0.3), 0px 1px 3px 1px rgba(60, 64, 67, 0.15);\n",
              "      fill: #174EA6;\n",
              "    }\n",
              "\n",
              "    .colab-df-buttons div {\n",
              "      margin-bottom: 4px;\n",
              "    }\n",
              "\n",
              "    [theme=dark] .colab-df-convert {\n",
              "      background-color: #3B4455;\n",
              "      fill: #D2E3FC;\n",
              "    }\n",
              "\n",
              "    [theme=dark] .colab-df-convert:hover {\n",
              "      background-color: #434B5C;\n",
              "      box-shadow: 0px 1px 3px 1px rgba(0, 0, 0, 0.15);\n",
              "      filter: drop-shadow(0px 1px 2px rgba(0, 0, 0, 0.3));\n",
              "      fill: #FFFFFF;\n",
              "    }\n",
              "  </style>\n",
              "\n",
              "    <script>\n",
              "      const buttonEl =\n",
              "        document.querySelector('#df-0ff47f2c-654b-4ca5-8e06-eda6399cdbe0 button.colab-df-convert');\n",
              "      buttonEl.style.display =\n",
              "        google.colab.kernel.accessAllowed ? 'block' : 'none';\n",
              "\n",
              "      async function convertToInteractive(key) {\n",
              "        const element = document.querySelector('#df-0ff47f2c-654b-4ca5-8e06-eda6399cdbe0');\n",
              "        const dataTable =\n",
              "          await google.colab.kernel.invokeFunction('convertToInteractive',\n",
              "                                                    [key], {});\n",
              "        if (!dataTable) return;\n",
              "\n",
              "        const docLinkHtml = 'Like what you see? Visit the ' +\n",
              "          '<a target=\"_blank\" href=https://colab.research.google.com/notebooks/data_table.ipynb>data table notebook</a>'\n",
              "          + ' to learn more about interactive tables.';\n",
              "        element.innerHTML = '';\n",
              "        dataTable['output_type'] = 'display_data';\n",
              "        await google.colab.output.renderOutput(dataTable, element);\n",
              "        const docLink = document.createElement('div');\n",
              "        docLink.innerHTML = docLinkHtml;\n",
              "        element.appendChild(docLink);\n",
              "      }\n",
              "    </script>\n",
              "  </div>\n",
              "\n",
              "\n",
              "<div id=\"df-7b6df2d1-3649-40d2-87b4-e33e020eec42\">\n",
              "  <button class=\"colab-df-quickchart\" onclick=\"quickchart('df-7b6df2d1-3649-40d2-87b4-e33e020eec42')\"\n",
              "            title=\"Suggest charts\"\n",
              "            style=\"display:none;\">\n",
              "\n",
              "<svg xmlns=\"http://www.w3.org/2000/svg\" height=\"24px\"viewBox=\"0 0 24 24\"\n",
              "     width=\"24px\">\n",
              "    <g>\n",
              "        <path d=\"M19 3H5c-1.1 0-2 .9-2 2v14c0 1.1.9 2 2 2h14c1.1 0 2-.9 2-2V5c0-1.1-.9-2-2-2zM9 17H7v-7h2v7zm4 0h-2V7h2v10zm4 0h-2v-4h2v4z\"/>\n",
              "    </g>\n",
              "</svg>\n",
              "  </button>\n",
              "\n",
              "<style>\n",
              "  .colab-df-quickchart {\n",
              "      --bg-color: #E8F0FE;\n",
              "      --fill-color: #1967D2;\n",
              "      --hover-bg-color: #E2EBFA;\n",
              "      --hover-fill-color: #174EA6;\n",
              "      --disabled-fill-color: #AAA;\n",
              "      --disabled-bg-color: #DDD;\n",
              "  }\n",
              "\n",
              "  [theme=dark] .colab-df-quickchart {\n",
              "      --bg-color: #3B4455;\n",
              "      --fill-color: #D2E3FC;\n",
              "      --hover-bg-color: #434B5C;\n",
              "      --hover-fill-color: #FFFFFF;\n",
              "      --disabled-bg-color: #3B4455;\n",
              "      --disabled-fill-color: #666;\n",
              "  }\n",
              "\n",
              "  .colab-df-quickchart {\n",
              "    background-color: var(--bg-color);\n",
              "    border: none;\n",
              "    border-radius: 50%;\n",
              "    cursor: pointer;\n",
              "    display: none;\n",
              "    fill: var(--fill-color);\n",
              "    height: 32px;\n",
              "    padding: 0;\n",
              "    width: 32px;\n",
              "  }\n",
              "\n",
              "  .colab-df-quickchart:hover {\n",
              "    background-color: var(--hover-bg-color);\n",
              "    box-shadow: 0 1px 2px rgba(60, 64, 67, 0.3), 0 1px 3px 1px rgba(60, 64, 67, 0.15);\n",
              "    fill: var(--button-hover-fill-color);\n",
              "  }\n",
              "\n",
              "  .colab-df-quickchart-complete:disabled,\n",
              "  .colab-df-quickchart-complete:disabled:hover {\n",
              "    background-color: var(--disabled-bg-color);\n",
              "    fill: var(--disabled-fill-color);\n",
              "    box-shadow: none;\n",
              "  }\n",
              "\n",
              "  .colab-df-spinner {\n",
              "    border: 2px solid var(--fill-color);\n",
              "    border-color: transparent;\n",
              "    border-bottom-color: var(--fill-color);\n",
              "    animation:\n",
              "      spin 1s steps(1) infinite;\n",
              "  }\n",
              "\n",
              "  @keyframes spin {\n",
              "    0% {\n",
              "      border-color: transparent;\n",
              "      border-bottom-color: var(--fill-color);\n",
              "      border-left-color: var(--fill-color);\n",
              "    }\n",
              "    20% {\n",
              "      border-color: transparent;\n",
              "      border-left-color: var(--fill-color);\n",
              "      border-top-color: var(--fill-color);\n",
              "    }\n",
              "    30% {\n",
              "      border-color: transparent;\n",
              "      border-left-color: var(--fill-color);\n",
              "      border-top-color: var(--fill-color);\n",
              "      border-right-color: var(--fill-color);\n",
              "    }\n",
              "    40% {\n",
              "      border-color: transparent;\n",
              "      border-right-color: var(--fill-color);\n",
              "      border-top-color: var(--fill-color);\n",
              "    }\n",
              "    60% {\n",
              "      border-color: transparent;\n",
              "      border-right-color: var(--fill-color);\n",
              "    }\n",
              "    80% {\n",
              "      border-color: transparent;\n",
              "      border-right-color: var(--fill-color);\n",
              "      border-bottom-color: var(--fill-color);\n",
              "    }\n",
              "    90% {\n",
              "      border-color: transparent;\n",
              "      border-bottom-color: var(--fill-color);\n",
              "    }\n",
              "  }\n",
              "</style>\n",
              "\n",
              "  <script>\n",
              "    async function quickchart(key) {\n",
              "      const quickchartButtonEl =\n",
              "        document.querySelector('#' + key + ' button');\n",
              "      quickchartButtonEl.disabled = true;  // To prevent multiple clicks.\n",
              "      quickchartButtonEl.classList.add('colab-df-spinner');\n",
              "      try {\n",
              "        const charts = await google.colab.kernel.invokeFunction(\n",
              "            'suggestCharts', [key], {});\n",
              "      } catch (error) {\n",
              "        console.error('Error during call to suggestCharts:', error);\n",
              "      }\n",
              "      quickchartButtonEl.classList.remove('colab-df-spinner');\n",
              "      quickchartButtonEl.classList.add('colab-df-quickchart-complete');\n",
              "    }\n",
              "    (() => {\n",
              "      let quickchartButtonEl =\n",
              "        document.querySelector('#df-7b6df2d1-3649-40d2-87b4-e33e020eec42 button');\n",
              "      quickchartButtonEl.style.display =\n",
              "        google.colab.kernel.accessAllowed ? 'block' : 'none';\n",
              "    })();\n",
              "  </script>\n",
              "</div>\n",
              "\n",
              "  <div id=\"id_2f8fa0e6-b018-437e-b749-ffb679315d48\">\n",
              "    <style>\n",
              "      .colab-df-generate {\n",
              "        background-color: #E8F0FE;\n",
              "        border: none;\n",
              "        border-radius: 50%;\n",
              "        cursor: pointer;\n",
              "        display: none;\n",
              "        fill: #1967D2;\n",
              "        height: 32px;\n",
              "        padding: 0 0 0 0;\n",
              "        width: 32px;\n",
              "      }\n",
              "\n",
              "      .colab-df-generate:hover {\n",
              "        background-color: #E2EBFA;\n",
              "        box-shadow: 0px 1px 2px rgba(60, 64, 67, 0.3), 0px 1px 3px 1px rgba(60, 64, 67, 0.15);\n",
              "        fill: #174EA6;\n",
              "      }\n",
              "\n",
              "      [theme=dark] .colab-df-generate {\n",
              "        background-color: #3B4455;\n",
              "        fill: #D2E3FC;\n",
              "      }\n",
              "\n",
              "      [theme=dark] .colab-df-generate:hover {\n",
              "        background-color: #434B5C;\n",
              "        box-shadow: 0px 1px 3px 1px rgba(0, 0, 0, 0.15);\n",
              "        filter: drop-shadow(0px 1px 2px rgba(0, 0, 0, 0.3));\n",
              "        fill: #FFFFFF;\n",
              "      }\n",
              "    </style>\n",
              "    <button class=\"colab-df-generate\" onclick=\"generateWithVariable('df')\"\n",
              "            title=\"Generate code using this dataframe.\"\n",
              "            style=\"display:none;\">\n",
              "\n",
              "  <svg xmlns=\"http://www.w3.org/2000/svg\" height=\"24px\"viewBox=\"0 0 24 24\"\n",
              "       width=\"24px\">\n",
              "    <path d=\"M7,19H8.4L18.45,9,17,7.55,7,17.6ZM5,21V16.75L18.45,3.32a2,2,0,0,1,2.83,0l1.4,1.43a1.91,1.91,0,0,1,.58,1.4,1.91,1.91,0,0,1-.58,1.4L9.25,21ZM18.45,9,17,7.55Zm-12,3A5.31,5.31,0,0,0,4.9,8.1,5.31,5.31,0,0,0,1,6.5,5.31,5.31,0,0,0,4.9,4.9,5.31,5.31,0,0,0,6.5,1,5.31,5.31,0,0,0,8.1,4.9,5.31,5.31,0,0,0,12,6.5,5.46,5.46,0,0,0,6.5,12Z\"/>\n",
              "  </svg>\n",
              "    </button>\n",
              "    <script>\n",
              "      (() => {\n",
              "      const buttonEl =\n",
              "        document.querySelector('#id_2f8fa0e6-b018-437e-b749-ffb679315d48 button.colab-df-generate');\n",
              "      buttonEl.style.display =\n",
              "        google.colab.kernel.accessAllowed ? 'block' : 'none';\n",
              "\n",
              "      buttonEl.onclick = () => {\n",
              "        google.colab.notebook.generateWithVariable('df');\n",
              "      }\n",
              "      })();\n",
              "    </script>\n",
              "  </div>\n",
              "\n",
              "    </div>\n",
              "  </div>\n"
            ],
            "application/vnd.google.colaboratory.intrinsic+json": {
              "type": "dataframe",
              "variable_name": "df",
              "summary": "{\n  \"name\": \"df\",\n  \"rows\": 20,\n  \"fields\": [\n    {\n      \"column\": \"a\",\n      \"properties\": {\n        \"dtype\": \"number\",\n        \"std\": 0.29665257591325195,\n        \"min\": 1.0632069912330668,\n        \"max\": 1.902213371921849,\n        \"num_unique_values\": 20,\n        \"samples\": [\n          1.418736589210783,\n          1.0842747380531768,\n          1.3875274283647765\n        ],\n        \"semantic_type\": \"\",\n        \"description\": \"\"\n      }\n    },\n    {\n      \"column\": \"b\",\n      \"properties\": {\n        \"dtype\": \"number\",\n        \"std\": 0.32398923168901633,\n        \"min\": 1.1014734653790423,\n        \"max\": 1.9755665482421847,\n        \"num_unique_values\": 20,\n        \"samples\": [\n          1.8893524851899135,\n          1.591740615592638,\n          1.1181320015889802\n        ],\n        \"semantic_type\": \"\",\n        \"description\": \"\"\n      }\n    },\n    {\n      \"column\": \"c\",\n      \"properties\": {\n        \"dtype\": \"number\",\n        \"std\": 0.2385000429032584,\n        \"min\": 1.0325796712644357,\n        \"max\": 1.8458113626108117,\n        \"num_unique_values\": 20,\n        \"samples\": [\n          1.6590580471617424,\n          1.0325796712644357,\n          1.2149368045496316\n        ],\n        \"semantic_type\": \"\",\n        \"description\": \"\"\n      }\n    },\n    {\n      \"column\": \"d\",\n      \"properties\": {\n        \"dtype\": \"number\",\n        \"std\": 0.3526407548542711,\n        \"min\": 1.0810779956468146,\n        \"max\": 1.99356090609701,\n        \"num_unique_values\": 20,\n        \"samples\": [\n          1.325354869584206,\n          1.74338312769016,\n          1.783811635854082\n        ],\n        \"semantic_type\": \"\",\n        \"description\": \"\"\n      }\n    },\n    {\n      \"column\": \"e\",\n      \"properties\": {\n        \"dtype\": \"number\",\n        \"std\": 0.30681225162532544,\n        \"min\": 1.0001062413403967,\n        \"max\": 1.9781180519929977,\n        \"num_unique_values\": 20,\n        \"samples\": [\n          1.3499755620429772,\n          1.0910153962676032,\n          1.0591877203153364\n        ],\n        \"semantic_type\": \"\",\n        \"description\": \"\"\n      }\n    }\n  ]\n}"
            }
          },
          "metadata": {}
        }
      ]
    },
    {
      "cell_type": "markdown",
      "source": [
        "Column with maxium standard deviation"
      ],
      "metadata": {
        "id": "z3WM4u_x6CsE"
      }
    },
    {
      "cell_type": "code",
      "source": [
        "j=0\n",
        "col='a'\n",
        "for i in df.columns:\n",
        "  if df[i].std() >=j:\n",
        "    j=df[i].std()\n",
        "    col=i\n"
      ],
      "metadata": {
        "id": "mdRJUdGs5WgQ"
      },
      "execution_count": 14,
      "outputs": []
    },
    {
      "cell_type": "code",
      "source": [
        "print(col,j)"
      ],
      "metadata": {
        "colab": {
          "base_uri": "https://localhost:8080/"
        },
        "id": "bUsAkR9G569g",
        "outputId": "03c4c57f-c5f8-48c4-97d3-4605601c986e"
      },
      "execution_count": 15,
      "outputs": [
        {
          "output_type": "stream",
          "name": "stdout",
          "text": [
            "d 0.3526407548542711\n"
          ]
        }
      ]
    },
    {
      "cell_type": "markdown",
      "source": [
        "Row with lowest mean"
      ],
      "metadata": {
        "id": "MQ3GIdn-6GNj"
      }
    },
    {
      "cell_type": "code",
      "source": [
        "k=1000000000\n",
        "row='c'\n",
        "for i in range(len(df)):\n",
        "  if df.iloc[i,:].mean()<=k:\n",
        "    k=df.iloc[i,:].mean()\n",
        "    row=i\n",
        "print(i+1,'th',k)\n",
        "\n",
        ""
      ],
      "metadata": {
        "colab": {
          "base_uri": "https://localhost:8080/"
        },
        "id": "hGQxfBMP6Kee",
        "outputId": "0fa8ca82-7d4f-42a8-b685-3ffc33b9e5d7"
      },
      "execution_count": 16,
      "outputs": [
        {
          "output_type": "stream",
          "name": "stdout",
          "text": [
            "20 th 1.2735400622131174\n"
          ]
        }
      ]
    },
    {
      "cell_type": "markdown",
      "source": [],
      "metadata": {
        "id": "k-KnS4C867lW"
      }
    },
    {
      "cell_type": "markdown",
      "source": [
        "Question 11"
      ],
      "metadata": {
        "id": "Poon5_Gs7WLz"
      }
    },
    {
      "cell_type": "code",
      "source": [
        "df.loc[:,'f']=df.loc[:,'a']+df.loc[:,'b']+df.loc[:,'c']+df.loc[:,'d']+df.loc[:,'e']"
      ],
      "metadata": {
        "id": "ZDVk2TNnlgqt"
      },
      "execution_count": 18,
      "outputs": []
    },
    {
      "cell_type": "code",
      "source": [
        "df.loc[:,'g']=df.loc[:,'f']\n",
        "for i in range(len(df)):\n",
        "  if df.loc[i,'f']<8:\n",
        "    df.loc[i,'g']='LT8'\n",
        "  else:\n",
        "    df.loc[i,'g']='GT8'"
      ],
      "metadata": {
        "colab": {
          "base_uri": "https://localhost:8080/"
        },
        "id": "1Bvr_nIMof0R",
        "outputId": "708f1975-1552-49e0-b08f-6cd9a5c0b36c"
      },
      "execution_count": 22,
      "outputs": [
        {
          "output_type": "stream",
          "name": "stderr",
          "text": [
            "<ipython-input-22-326175535019>:4: FutureWarning: Setting an item of incompatible dtype is deprecated and will raise in a future error of pandas. Value 'LT8' has dtype incompatible with float64, please explicitly cast to a compatible dtype first.\n",
            "  df.loc[i,'g']='LT8'\n"
          ]
        }
      ]
    },
    {
      "cell_type": "code",
      "source": [
        "display(df)"
      ],
      "metadata": {
        "colab": {
          "base_uri": "https://localhost:8080/",
          "height": 676
        },
        "id": "6hUwNs7gqAsl",
        "outputId": "0a00f311-5669-4f04-841f-d2e971f665dd"
      },
      "execution_count": 23,
      "outputs": [
        {
          "output_type": "display_data",
          "data": {
            "text/plain": [
              "           a         b         c         d         e         f    g\n",
              "0   1.418737  1.889352  1.659058  1.325355  1.349976  7.642478  LT8\n",
              "1   1.858618  1.964372  1.645479  1.577734  1.075957  8.122161  GT8\n",
              "2   1.064661  1.365406  1.329134  1.465877  1.145997  6.371075  LT8\n",
              "3   1.752563  1.971122  1.211153  1.545404  1.910254  8.390496  GT8\n",
              "4   1.090370  1.161582  1.629075  1.978725  1.710059  7.569811  LT8\n",
              "5   1.381676  1.101473  1.672780  1.211664  1.000106  6.367700  LT8\n",
              "6   1.745214  1.151584  1.477404  1.081078  1.978118  7.433398  LT8\n",
              "7   1.664525  1.975567  1.705898  1.381427  1.363010  8.090427  GT8\n",
              "8   1.344348  1.827655  1.365913  1.108902  1.469508  7.116326  LT8\n",
              "9   1.063207  1.581403  1.175911  1.993561  1.586025  7.400107  LT8\n",
              "10  1.723275  1.892895  1.201021  1.081792  1.212864  7.111847  LT8\n",
              "11  1.902213  1.714802  1.204384  1.148652  1.396654  7.366706  LT8\n",
              "12  1.549583  1.963194  1.405354  1.919883  1.081556  7.919571  LT8\n",
              "13  1.874413  1.808078  1.791199  1.355723  1.192830  8.022242  GT8\n",
              "14  1.524336  1.112400  1.845811  1.976348  1.895218  8.354114  GT8\n",
              "15  1.387527  1.118132  1.214937  1.783812  1.059188  6.563596  LT8\n",
              "16  1.189933  1.600654  1.553622  1.978193  1.301352  7.623755  LT8\n",
              "17  1.084275  1.591741  1.032580  1.743383  1.091015  6.542994  LT8\n",
              "18  1.064837  1.520625  1.667221  1.142896  1.380904  6.776483  LT8\n",
              "19  1.361417  1.600922  1.589134  1.987046  1.076081  7.614600  LT8"
            ],
            "text/html": [
              "\n",
              "  <div id=\"df-52c29a20-ccab-4df3-866a-fdd2106b8b91\" class=\"colab-df-container\">\n",
              "    <div>\n",
              "<style scoped>\n",
              "    .dataframe tbody tr th:only-of-type {\n",
              "        vertical-align: middle;\n",
              "    }\n",
              "\n",
              "    .dataframe tbody tr th {\n",
              "        vertical-align: top;\n",
              "    }\n",
              "\n",
              "    .dataframe thead th {\n",
              "        text-align: right;\n",
              "    }\n",
              "</style>\n",
              "<table border=\"1\" class=\"dataframe\">\n",
              "  <thead>\n",
              "    <tr style=\"text-align: right;\">\n",
              "      <th></th>\n",
              "      <th>a</th>\n",
              "      <th>b</th>\n",
              "      <th>c</th>\n",
              "      <th>d</th>\n",
              "      <th>e</th>\n",
              "      <th>f</th>\n",
              "      <th>g</th>\n",
              "    </tr>\n",
              "  </thead>\n",
              "  <tbody>\n",
              "    <tr>\n",
              "      <th>0</th>\n",
              "      <td>1.418737</td>\n",
              "      <td>1.889352</td>\n",
              "      <td>1.659058</td>\n",
              "      <td>1.325355</td>\n",
              "      <td>1.349976</td>\n",
              "      <td>7.642478</td>\n",
              "      <td>LT8</td>\n",
              "    </tr>\n",
              "    <tr>\n",
              "      <th>1</th>\n",
              "      <td>1.858618</td>\n",
              "      <td>1.964372</td>\n",
              "      <td>1.645479</td>\n",
              "      <td>1.577734</td>\n",
              "      <td>1.075957</td>\n",
              "      <td>8.122161</td>\n",
              "      <td>GT8</td>\n",
              "    </tr>\n",
              "    <tr>\n",
              "      <th>2</th>\n",
              "      <td>1.064661</td>\n",
              "      <td>1.365406</td>\n",
              "      <td>1.329134</td>\n",
              "      <td>1.465877</td>\n",
              "      <td>1.145997</td>\n",
              "      <td>6.371075</td>\n",
              "      <td>LT8</td>\n",
              "    </tr>\n",
              "    <tr>\n",
              "      <th>3</th>\n",
              "      <td>1.752563</td>\n",
              "      <td>1.971122</td>\n",
              "      <td>1.211153</td>\n",
              "      <td>1.545404</td>\n",
              "      <td>1.910254</td>\n",
              "      <td>8.390496</td>\n",
              "      <td>GT8</td>\n",
              "    </tr>\n",
              "    <tr>\n",
              "      <th>4</th>\n",
              "      <td>1.090370</td>\n",
              "      <td>1.161582</td>\n",
              "      <td>1.629075</td>\n",
              "      <td>1.978725</td>\n",
              "      <td>1.710059</td>\n",
              "      <td>7.569811</td>\n",
              "      <td>LT8</td>\n",
              "    </tr>\n",
              "    <tr>\n",
              "      <th>5</th>\n",
              "      <td>1.381676</td>\n",
              "      <td>1.101473</td>\n",
              "      <td>1.672780</td>\n",
              "      <td>1.211664</td>\n",
              "      <td>1.000106</td>\n",
              "      <td>6.367700</td>\n",
              "      <td>LT8</td>\n",
              "    </tr>\n",
              "    <tr>\n",
              "      <th>6</th>\n",
              "      <td>1.745214</td>\n",
              "      <td>1.151584</td>\n",
              "      <td>1.477404</td>\n",
              "      <td>1.081078</td>\n",
              "      <td>1.978118</td>\n",
              "      <td>7.433398</td>\n",
              "      <td>LT8</td>\n",
              "    </tr>\n",
              "    <tr>\n",
              "      <th>7</th>\n",
              "      <td>1.664525</td>\n",
              "      <td>1.975567</td>\n",
              "      <td>1.705898</td>\n",
              "      <td>1.381427</td>\n",
              "      <td>1.363010</td>\n",
              "      <td>8.090427</td>\n",
              "      <td>GT8</td>\n",
              "    </tr>\n",
              "    <tr>\n",
              "      <th>8</th>\n",
              "      <td>1.344348</td>\n",
              "      <td>1.827655</td>\n",
              "      <td>1.365913</td>\n",
              "      <td>1.108902</td>\n",
              "      <td>1.469508</td>\n",
              "      <td>7.116326</td>\n",
              "      <td>LT8</td>\n",
              "    </tr>\n",
              "    <tr>\n",
              "      <th>9</th>\n",
              "      <td>1.063207</td>\n",
              "      <td>1.581403</td>\n",
              "      <td>1.175911</td>\n",
              "      <td>1.993561</td>\n",
              "      <td>1.586025</td>\n",
              "      <td>7.400107</td>\n",
              "      <td>LT8</td>\n",
              "    </tr>\n",
              "    <tr>\n",
              "      <th>10</th>\n",
              "      <td>1.723275</td>\n",
              "      <td>1.892895</td>\n",
              "      <td>1.201021</td>\n",
              "      <td>1.081792</td>\n",
              "      <td>1.212864</td>\n",
              "      <td>7.111847</td>\n",
              "      <td>LT8</td>\n",
              "    </tr>\n",
              "    <tr>\n",
              "      <th>11</th>\n",
              "      <td>1.902213</td>\n",
              "      <td>1.714802</td>\n",
              "      <td>1.204384</td>\n",
              "      <td>1.148652</td>\n",
              "      <td>1.396654</td>\n",
              "      <td>7.366706</td>\n",
              "      <td>LT8</td>\n",
              "    </tr>\n",
              "    <tr>\n",
              "      <th>12</th>\n",
              "      <td>1.549583</td>\n",
              "      <td>1.963194</td>\n",
              "      <td>1.405354</td>\n",
              "      <td>1.919883</td>\n",
              "      <td>1.081556</td>\n",
              "      <td>7.919571</td>\n",
              "      <td>LT8</td>\n",
              "    </tr>\n",
              "    <tr>\n",
              "      <th>13</th>\n",
              "      <td>1.874413</td>\n",
              "      <td>1.808078</td>\n",
              "      <td>1.791199</td>\n",
              "      <td>1.355723</td>\n",
              "      <td>1.192830</td>\n",
              "      <td>8.022242</td>\n",
              "      <td>GT8</td>\n",
              "    </tr>\n",
              "    <tr>\n",
              "      <th>14</th>\n",
              "      <td>1.524336</td>\n",
              "      <td>1.112400</td>\n",
              "      <td>1.845811</td>\n",
              "      <td>1.976348</td>\n",
              "      <td>1.895218</td>\n",
              "      <td>8.354114</td>\n",
              "      <td>GT8</td>\n",
              "    </tr>\n",
              "    <tr>\n",
              "      <th>15</th>\n",
              "      <td>1.387527</td>\n",
              "      <td>1.118132</td>\n",
              "      <td>1.214937</td>\n",
              "      <td>1.783812</td>\n",
              "      <td>1.059188</td>\n",
              "      <td>6.563596</td>\n",
              "      <td>LT8</td>\n",
              "    </tr>\n",
              "    <tr>\n",
              "      <th>16</th>\n",
              "      <td>1.189933</td>\n",
              "      <td>1.600654</td>\n",
              "      <td>1.553622</td>\n",
              "      <td>1.978193</td>\n",
              "      <td>1.301352</td>\n",
              "      <td>7.623755</td>\n",
              "      <td>LT8</td>\n",
              "    </tr>\n",
              "    <tr>\n",
              "      <th>17</th>\n",
              "      <td>1.084275</td>\n",
              "      <td>1.591741</td>\n",
              "      <td>1.032580</td>\n",
              "      <td>1.743383</td>\n",
              "      <td>1.091015</td>\n",
              "      <td>6.542994</td>\n",
              "      <td>LT8</td>\n",
              "    </tr>\n",
              "    <tr>\n",
              "      <th>18</th>\n",
              "      <td>1.064837</td>\n",
              "      <td>1.520625</td>\n",
              "      <td>1.667221</td>\n",
              "      <td>1.142896</td>\n",
              "      <td>1.380904</td>\n",
              "      <td>6.776483</td>\n",
              "      <td>LT8</td>\n",
              "    </tr>\n",
              "    <tr>\n",
              "      <th>19</th>\n",
              "      <td>1.361417</td>\n",
              "      <td>1.600922</td>\n",
              "      <td>1.589134</td>\n",
              "      <td>1.987046</td>\n",
              "      <td>1.076081</td>\n",
              "      <td>7.614600</td>\n",
              "      <td>LT8</td>\n",
              "    </tr>\n",
              "  </tbody>\n",
              "</table>\n",
              "</div>\n",
              "    <div class=\"colab-df-buttons\">\n",
              "\n",
              "  <div class=\"colab-df-container\">\n",
              "    <button class=\"colab-df-convert\" onclick=\"convertToInteractive('df-52c29a20-ccab-4df3-866a-fdd2106b8b91')\"\n",
              "            title=\"Convert this dataframe to an interactive table.\"\n",
              "            style=\"display:none;\">\n",
              "\n",
              "  <svg xmlns=\"http://www.w3.org/2000/svg\" height=\"24px\" viewBox=\"0 -960 960 960\">\n",
              "    <path d=\"M120-120v-720h720v720H120Zm60-500h600v-160H180v160Zm220 220h160v-160H400v160Zm0 220h160v-160H400v160ZM180-400h160v-160H180v160Zm440 0h160v-160H620v160ZM180-180h160v-160H180v160Zm440 0h160v-160H620v160Z\"/>\n",
              "  </svg>\n",
              "    </button>\n",
              "\n",
              "  <style>\n",
              "    .colab-df-container {\n",
              "      display:flex;\n",
              "      gap: 12px;\n",
              "    }\n",
              "\n",
              "    .colab-df-convert {\n",
              "      background-color: #E8F0FE;\n",
              "      border: none;\n",
              "      border-radius: 50%;\n",
              "      cursor: pointer;\n",
              "      display: none;\n",
              "      fill: #1967D2;\n",
              "      height: 32px;\n",
              "      padding: 0 0 0 0;\n",
              "      width: 32px;\n",
              "    }\n",
              "\n",
              "    .colab-df-convert:hover {\n",
              "      background-color: #E2EBFA;\n",
              "      box-shadow: 0px 1px 2px rgba(60, 64, 67, 0.3), 0px 1px 3px 1px rgba(60, 64, 67, 0.15);\n",
              "      fill: #174EA6;\n",
              "    }\n",
              "\n",
              "    .colab-df-buttons div {\n",
              "      margin-bottom: 4px;\n",
              "    }\n",
              "\n",
              "    [theme=dark] .colab-df-convert {\n",
              "      background-color: #3B4455;\n",
              "      fill: #D2E3FC;\n",
              "    }\n",
              "\n",
              "    [theme=dark] .colab-df-convert:hover {\n",
              "      background-color: #434B5C;\n",
              "      box-shadow: 0px 1px 3px 1px rgba(0, 0, 0, 0.15);\n",
              "      filter: drop-shadow(0px 1px 2px rgba(0, 0, 0, 0.3));\n",
              "      fill: #FFFFFF;\n",
              "    }\n",
              "  </style>\n",
              "\n",
              "    <script>\n",
              "      const buttonEl =\n",
              "        document.querySelector('#df-52c29a20-ccab-4df3-866a-fdd2106b8b91 button.colab-df-convert');\n",
              "      buttonEl.style.display =\n",
              "        google.colab.kernel.accessAllowed ? 'block' : 'none';\n",
              "\n",
              "      async function convertToInteractive(key) {\n",
              "        const element = document.querySelector('#df-52c29a20-ccab-4df3-866a-fdd2106b8b91');\n",
              "        const dataTable =\n",
              "          await google.colab.kernel.invokeFunction('convertToInteractive',\n",
              "                                                    [key], {});\n",
              "        if (!dataTable) return;\n",
              "\n",
              "        const docLinkHtml = 'Like what you see? Visit the ' +\n",
              "          '<a target=\"_blank\" href=https://colab.research.google.com/notebooks/data_table.ipynb>data table notebook</a>'\n",
              "          + ' to learn more about interactive tables.';\n",
              "        element.innerHTML = '';\n",
              "        dataTable['output_type'] = 'display_data';\n",
              "        await google.colab.output.renderOutput(dataTable, element);\n",
              "        const docLink = document.createElement('div');\n",
              "        docLink.innerHTML = docLinkHtml;\n",
              "        element.appendChild(docLink);\n",
              "      }\n",
              "    </script>\n",
              "  </div>\n",
              "\n",
              "\n",
              "<div id=\"df-9a8716d0-25cc-40fb-8421-e570a9d536e7\">\n",
              "  <button class=\"colab-df-quickchart\" onclick=\"quickchart('df-9a8716d0-25cc-40fb-8421-e570a9d536e7')\"\n",
              "            title=\"Suggest charts\"\n",
              "            style=\"display:none;\">\n",
              "\n",
              "<svg xmlns=\"http://www.w3.org/2000/svg\" height=\"24px\"viewBox=\"0 0 24 24\"\n",
              "     width=\"24px\">\n",
              "    <g>\n",
              "        <path d=\"M19 3H5c-1.1 0-2 .9-2 2v14c0 1.1.9 2 2 2h14c1.1 0 2-.9 2-2V5c0-1.1-.9-2-2-2zM9 17H7v-7h2v7zm4 0h-2V7h2v10zm4 0h-2v-4h2v4z\"/>\n",
              "    </g>\n",
              "</svg>\n",
              "  </button>\n",
              "\n",
              "<style>\n",
              "  .colab-df-quickchart {\n",
              "      --bg-color: #E8F0FE;\n",
              "      --fill-color: #1967D2;\n",
              "      --hover-bg-color: #E2EBFA;\n",
              "      --hover-fill-color: #174EA6;\n",
              "      --disabled-fill-color: #AAA;\n",
              "      --disabled-bg-color: #DDD;\n",
              "  }\n",
              "\n",
              "  [theme=dark] .colab-df-quickchart {\n",
              "      --bg-color: #3B4455;\n",
              "      --fill-color: #D2E3FC;\n",
              "      --hover-bg-color: #434B5C;\n",
              "      --hover-fill-color: #FFFFFF;\n",
              "      --disabled-bg-color: #3B4455;\n",
              "      --disabled-fill-color: #666;\n",
              "  }\n",
              "\n",
              "  .colab-df-quickchart {\n",
              "    background-color: var(--bg-color);\n",
              "    border: none;\n",
              "    border-radius: 50%;\n",
              "    cursor: pointer;\n",
              "    display: none;\n",
              "    fill: var(--fill-color);\n",
              "    height: 32px;\n",
              "    padding: 0;\n",
              "    width: 32px;\n",
              "  }\n",
              "\n",
              "  .colab-df-quickchart:hover {\n",
              "    background-color: var(--hover-bg-color);\n",
              "    box-shadow: 0 1px 2px rgba(60, 64, 67, 0.3), 0 1px 3px 1px rgba(60, 64, 67, 0.15);\n",
              "    fill: var(--button-hover-fill-color);\n",
              "  }\n",
              "\n",
              "  .colab-df-quickchart-complete:disabled,\n",
              "  .colab-df-quickchart-complete:disabled:hover {\n",
              "    background-color: var(--disabled-bg-color);\n",
              "    fill: var(--disabled-fill-color);\n",
              "    box-shadow: none;\n",
              "  }\n",
              "\n",
              "  .colab-df-spinner {\n",
              "    border: 2px solid var(--fill-color);\n",
              "    border-color: transparent;\n",
              "    border-bottom-color: var(--fill-color);\n",
              "    animation:\n",
              "      spin 1s steps(1) infinite;\n",
              "  }\n",
              "\n",
              "  @keyframes spin {\n",
              "    0% {\n",
              "      border-color: transparent;\n",
              "      border-bottom-color: var(--fill-color);\n",
              "      border-left-color: var(--fill-color);\n",
              "    }\n",
              "    20% {\n",
              "      border-color: transparent;\n",
              "      border-left-color: var(--fill-color);\n",
              "      border-top-color: var(--fill-color);\n",
              "    }\n",
              "    30% {\n",
              "      border-color: transparent;\n",
              "      border-left-color: var(--fill-color);\n",
              "      border-top-color: var(--fill-color);\n",
              "      border-right-color: var(--fill-color);\n",
              "    }\n",
              "    40% {\n",
              "      border-color: transparent;\n",
              "      border-right-color: var(--fill-color);\n",
              "      border-top-color: var(--fill-color);\n",
              "    }\n",
              "    60% {\n",
              "      border-color: transparent;\n",
              "      border-right-color: var(--fill-color);\n",
              "    }\n",
              "    80% {\n",
              "      border-color: transparent;\n",
              "      border-right-color: var(--fill-color);\n",
              "      border-bottom-color: var(--fill-color);\n",
              "    }\n",
              "    90% {\n",
              "      border-color: transparent;\n",
              "      border-bottom-color: var(--fill-color);\n",
              "    }\n",
              "  }\n",
              "</style>\n",
              "\n",
              "  <script>\n",
              "    async function quickchart(key) {\n",
              "      const quickchartButtonEl =\n",
              "        document.querySelector('#' + key + ' button');\n",
              "      quickchartButtonEl.disabled = true;  // To prevent multiple clicks.\n",
              "      quickchartButtonEl.classList.add('colab-df-spinner');\n",
              "      try {\n",
              "        const charts = await google.colab.kernel.invokeFunction(\n",
              "            'suggestCharts', [key], {});\n",
              "      } catch (error) {\n",
              "        console.error('Error during call to suggestCharts:', error);\n",
              "      }\n",
              "      quickchartButtonEl.classList.remove('colab-df-spinner');\n",
              "      quickchartButtonEl.classList.add('colab-df-quickchart-complete');\n",
              "    }\n",
              "    (() => {\n",
              "      let quickchartButtonEl =\n",
              "        document.querySelector('#df-9a8716d0-25cc-40fb-8421-e570a9d536e7 button');\n",
              "      quickchartButtonEl.style.display =\n",
              "        google.colab.kernel.accessAllowed ? 'block' : 'none';\n",
              "    })();\n",
              "  </script>\n",
              "</div>\n",
              "\n",
              "  <div id=\"id_80e4cb83-ca29-400d-88dd-58095da78b87\">\n",
              "    <style>\n",
              "      .colab-df-generate {\n",
              "        background-color: #E8F0FE;\n",
              "        border: none;\n",
              "        border-radius: 50%;\n",
              "        cursor: pointer;\n",
              "        display: none;\n",
              "        fill: #1967D2;\n",
              "        height: 32px;\n",
              "        padding: 0 0 0 0;\n",
              "        width: 32px;\n",
              "      }\n",
              "\n",
              "      .colab-df-generate:hover {\n",
              "        background-color: #E2EBFA;\n",
              "        box-shadow: 0px 1px 2px rgba(60, 64, 67, 0.3), 0px 1px 3px 1px rgba(60, 64, 67, 0.15);\n",
              "        fill: #174EA6;\n",
              "      }\n",
              "\n",
              "      [theme=dark] .colab-df-generate {\n",
              "        background-color: #3B4455;\n",
              "        fill: #D2E3FC;\n",
              "      }\n",
              "\n",
              "      [theme=dark] .colab-df-generate:hover {\n",
              "        background-color: #434B5C;\n",
              "        box-shadow: 0px 1px 3px 1px rgba(0, 0, 0, 0.15);\n",
              "        filter: drop-shadow(0px 1px 2px rgba(0, 0, 0, 0.3));\n",
              "        fill: #FFFFFF;\n",
              "      }\n",
              "    </style>\n",
              "    <button class=\"colab-df-generate\" onclick=\"generateWithVariable('df')\"\n",
              "            title=\"Generate code using this dataframe.\"\n",
              "            style=\"display:none;\">\n",
              "\n",
              "  <svg xmlns=\"http://www.w3.org/2000/svg\" height=\"24px\"viewBox=\"0 0 24 24\"\n",
              "       width=\"24px\">\n",
              "    <path d=\"M7,19H8.4L18.45,9,17,7.55,7,17.6ZM5,21V16.75L18.45,3.32a2,2,0,0,1,2.83,0l1.4,1.43a1.91,1.91,0,0,1,.58,1.4,1.91,1.91,0,0,1-.58,1.4L9.25,21ZM18.45,9,17,7.55Zm-12,3A5.31,5.31,0,0,0,4.9,8.1,5.31,5.31,0,0,0,1,6.5,5.31,5.31,0,0,0,4.9,4.9,5.31,5.31,0,0,0,6.5,1,5.31,5.31,0,0,0,8.1,4.9,5.31,5.31,0,0,0,12,6.5,5.46,5.46,0,0,0,6.5,12Z\"/>\n",
              "  </svg>\n",
              "    </button>\n",
              "    <script>\n",
              "      (() => {\n",
              "      const buttonEl =\n",
              "        document.querySelector('#id_80e4cb83-ca29-400d-88dd-58095da78b87 button.colab-df-generate');\n",
              "      buttonEl.style.display =\n",
              "        google.colab.kernel.accessAllowed ? 'block' : 'none';\n",
              "\n",
              "      buttonEl.onclick = () => {\n",
              "        google.colab.notebook.generateWithVariable('df');\n",
              "      }\n",
              "      })();\n",
              "    </script>\n",
              "  </div>\n",
              "\n",
              "    </div>\n",
              "  </div>\n"
            ],
            "application/vnd.google.colaboratory.intrinsic+json": {
              "type": "dataframe",
              "variable_name": "df",
              "summary": "{\n  \"name\": \"df\",\n  \"rows\": 20,\n  \"fields\": [\n    {\n      \"column\": \"a\",\n      \"properties\": {\n        \"dtype\": \"number\",\n        \"std\": 0.29665257591325195,\n        \"min\": 1.0632069912330668,\n        \"max\": 1.902213371921849,\n        \"num_unique_values\": 20,\n        \"samples\": [\n          1.418736589210783,\n          1.0842747380531768,\n          1.3875274283647765\n        ],\n        \"semantic_type\": \"\",\n        \"description\": \"\"\n      }\n    },\n    {\n      \"column\": \"b\",\n      \"properties\": {\n        \"dtype\": \"number\",\n        \"std\": 0.32398923168901633,\n        \"min\": 1.1014734653790423,\n        \"max\": 1.9755665482421847,\n        \"num_unique_values\": 20,\n        \"samples\": [\n          1.8893524851899135,\n          1.591740615592638,\n          1.1181320015889802\n        ],\n        \"semantic_type\": \"\",\n        \"description\": \"\"\n      }\n    },\n    {\n      \"column\": \"c\",\n      \"properties\": {\n        \"dtype\": \"number\",\n        \"std\": 0.2385000429032584,\n        \"min\": 1.0325796712644357,\n        \"max\": 1.8458113626108117,\n        \"num_unique_values\": 20,\n        \"samples\": [\n          1.6590580471617424,\n          1.0325796712644357,\n          1.2149368045496316\n        ],\n        \"semantic_type\": \"\",\n        \"description\": \"\"\n      }\n    },\n    {\n      \"column\": \"d\",\n      \"properties\": {\n        \"dtype\": \"number\",\n        \"std\": 0.3526407548542711,\n        \"min\": 1.0810779956468146,\n        \"max\": 1.99356090609701,\n        \"num_unique_values\": 20,\n        \"samples\": [\n          1.325354869584206,\n          1.74338312769016,\n          1.783811635854082\n        ],\n        \"semantic_type\": \"\",\n        \"description\": \"\"\n      }\n    },\n    {\n      \"column\": \"e\",\n      \"properties\": {\n        \"dtype\": \"number\",\n        \"std\": 0.30681225162532544,\n        \"min\": 1.0001062413403967,\n        \"max\": 1.9781180519929977,\n        \"num_unique_values\": 20,\n        \"samples\": [\n          1.3499755620429772,\n          1.0910153962676032,\n          1.0591877203153364\n        ],\n        \"semantic_type\": \"\",\n        \"description\": \"\"\n      }\n    },\n    {\n      \"column\": \"f\",\n      \"properties\": {\n        \"dtype\": \"number\",\n        \"std\": 0.6421746942014138,\n        \"min\": 6.367700311065587,\n        \"max\": 8.39049601610888,\n        \"num_unique_values\": 20,\n        \"samples\": [\n          7.6424775531896225,\n          6.542993548868013,\n          6.563595590672806\n        ],\n        \"semantic_type\": \"\",\n        \"description\": \"\"\n      }\n    },\n    {\n      \"column\": \"g\",\n      \"properties\": {\n        \"dtype\": \"category\",\n        \"num_unique_values\": 2,\n        \"samples\": [\n          \"GT8\",\n          \"LT8\"\n        ],\n        \"semantic_type\": \"\",\n        \"description\": \"\"\n      }\n    }\n  ]\n}"
            }
          },
          "metadata": {}
        }
      ]
    },
    {
      "cell_type": "markdown",
      "source": [
        "Quesition 12"
      ],
      "metadata": {
        "id": "3tr9AP_n86h_"
      }
    },
    {
      "cell_type": "markdown",
      "source": [
        "Suppose we have to add B array (1x3) to each column of A array (4x3). Numpy Makes treats array B(1x3) as B(4x3) where the rows are identical and same as B(1x3) and performs the addition"
      ],
      "metadata": {
        "id": "hXml-HrO8NoG"
      }
    },
    {
      "cell_type": "code",
      "source": [
        "import numpy as np\n",
        "\n",
        "A = np.array([[1, 2, 3],\n",
        "              [4, 5, 6],\n",
        "              [7, 8, 9],\n",
        "              [10, 11, 12]])\n",
        "\n",
        "B = np.array([1, 0, 1])\n",
        "# Broadcasting B to match the shape of A\n",
        "C = A + B\n",
        "print(C)\n"
      ],
      "metadata": {
        "colab": {
          "base_uri": "https://localhost:8080/"
        },
        "id": "56Zw0YgN7Xkz",
        "outputId": "5b8d4980-2b2e-44c3-ba40-7f77f203f8c7"
      },
      "execution_count": 24,
      "outputs": [
        {
          "output_type": "stream",
          "name": "stdout",
          "text": [
            "[[ 2  2  4]\n",
            " [ 5  5  7]\n",
            " [ 8  8 10]\n",
            " [11 11 13]]\n"
          ]
        }
      ]
    },
    {
      "cell_type": "markdown",
      "source": [
        "Question 13"
      ],
      "metadata": {
        "id": "v_cqKDgY831M"
      }
    },
    {
      "cell_type": "code",
      "source": [
        "import numpy as np\n",
        "a=np.random.uniform(1,6,(1,4))\n",
        "def argmin(arr):\n",
        "  a=100000000000000\n",
        "  b=(0,0)\n",
        "  for i in range(arr.shape[0]):\n",
        "    for j in range(arr.shape[1]):\n",
        "      if arr[i,j]<=a:\n",
        "        k=arr[i,j]\n",
        "        b=(i,j)\n",
        "  return b\n",
        "print(argmin(a))\n",
        "print(np.argmin(a))\n",
        "\n",
        "\n",
        "\n"
      ],
      "metadata": {
        "colab": {
          "base_uri": "https://localhost:8080/"
        },
        "id": "6jxs5pB_88so",
        "outputId": "0409761d-bc52-43cb-bcdc-6441b359419e"
      },
      "execution_count": 9,
      "outputs": [
        {
          "output_type": "stream",
          "name": "stdout",
          "text": [
            "(0, 3)\n",
            "3\n"
          ]
        }
      ]
    }
  ]
}